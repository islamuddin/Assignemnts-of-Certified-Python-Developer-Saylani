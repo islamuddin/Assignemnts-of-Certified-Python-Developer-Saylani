{
 "cells": [
  {
   "cell_type": "code",
   "execution_count": 1,
   "metadata": {},
   "outputs": [
    {
     "name": "stdout",
     "output_type": "stream",
     "text": [
      "Name        : Islamuddin\n",
      "Assignment #: 4\n",
      "Teacher     : Muhammad Ali Mughal\n",
      "Course      : Certified Python Deveoper (Saylani)\n"
     ]
    }
   ],
   "source": [
    "print(\"Name        : Islamuddin\")\n",
    "print(\"Assignment #: 4\")\n",
    "print(\"Teacher     : Muhammad Ali Mughal\")\n",
    "print(\"Course      : Certified Python Deveoper (Saylani)\")\n"
   ]
  },
  {
   "cell_type": "code",
   "execution_count": 2,
   "metadata": {},
   "outputs": [
    {
     "name": "stdout",
     "output_type": "stream",
     "text": [
      "first_name : Islam\n",
      "last_name : Uddin\n",
      "age : 22\n",
      "city : Ghotki\n",
      "\n",
      " add qualification \n",
      "\n",
      "first_name : Islam\n",
      "last_name : Uddin\n",
      "age : 22\n",
      "city : Ghotki\n",
      "qualification : Graduation\n",
      "\n",
      " update qualification \n",
      "\n",
      "first_name : Islam\n",
      "last_name : Uddin\n",
      "age : 22\n",
      "city : Ghotki\n",
      "qualification : Masters\n"
     ]
    }
   ],
   "source": [
    "#Q:01:Use a dictionary to store information about a person you know. Store their first name, last name, age, and the city in which they live. You should have keys such as first_name, last_name, age, and city. Print each piece of information stored in your dictionary. Add a new key value pair about qualification then update the qualification value to high academic level then delete it.\n",
    "\n",
    "person_dict={\"first_name\":\"Islam\",\"last_name\":\"Uddin\",\"age\":\"22\",\"city\":\"Ghotki\"}\n",
    "for key, value in person_dict.items():\n",
    "    print(key+\" : \"+value)\n",
    "print(\"\\n add qualification \\n\")\n",
    "person_dict[\"qualification\"]=\"Graduation\"\n",
    "for key, value in person_dict.items():\n",
    "    print(key+\" : \"+value)\n",
    "print(\"\\n update qualification \\n\")\n",
    "person_dict[\"qualification\"]=\"Masters\"\n",
    "for key, value in person_dict.items():\n",
    "    print(key+\" : \"+value)"
   ]
  },
  {
   "cell_type": "code",
   "execution_count": 3,
   "metadata": {},
   "outputs": [
    {
     "name": "stdout",
     "output_type": "stream",
     "text": [
      "\n",
      "Lahore\n",
      "\n",
      "country : pakistan\n",
      "population : 12188000\n",
      "fact : Lahore is the capital city of the Pakistani province of Punjab. It is the second largest city in Pakistan\n",
      "\n",
      "Karachi\n",
      "\n",
      "country : pakistan\n",
      "population : 15741000\n",
      "fact : Karachi is hub of Pakistan's economy, contributing 42% of GDP , 70% of income tax revenue and 62% of sales tax revenue\n",
      "\n",
      "Islamabad\n",
      "\n",
      "country : pakistan\n",
      "population : 1095064\n",
      "fact : Islamabad is the capital city of pakistan\n"
     ]
    }
   ],
   "source": [
    "#Q:02:Make a dictionary called cities. Use the names of three cities as keys in your dictionary. \n",
    "#Create a dictionary of information about each city and \n",
    "#include the country that the city is in, its approximate population, and \n",
    "#one fact about that city. The keys for each city’s dictionary should be something like country, population, and fact. \n",
    "#Print the name of each city and all of the information you have stored about it.\n",
    "\n",
    "\n",
    "cities={\n",
    "    \"Lahore\":{\n",
    "        \"country\":\"pakistan\",\n",
    "        \"population\":12188000,\n",
    "        \"fact\":\"Lahore is the capital city of the Pakistani province of Punjab. It is the second largest city in Pakistan\"\n",
    "    },\n",
    "    \"Karachi\":{\n",
    "        \"country\":\"pakistan\",\n",
    "        \"population\":15741000,\n",
    "        \"fact\":\"Karachi is hub of Pakistan's economy, contributing 42% of GDP , 70% of income tax revenue and 62% of sales tax revenue\"\n",
    "    },\n",
    "    \"Islamabad\":{\n",
    "        \"country\":\"pakistan\",\n",
    "        \"population\":1095064,\n",
    "        \"fact\":\"Islamabad is the capital city of pakistan\"\n",
    "    }\n",
    "}\n",
    "for citykey,cityinfo in cities.items():\n",
    "    print(\"\\n\"+citykey+\"\\n\")\n",
    "    for city in cityinfo:\n",
    "        print(city+\" : \"+str(cityinfo[city]))"
   ]
  },
  {
   "cell_type": "code",
   "execution_count": null,
   "metadata": {},
   "outputs": [],
   "source": []
  }
 ],
 "metadata": {
  "kernelspec": {
   "display_name": "Python 3",
   "language": "python",
   "name": "python3"
  },
  "language_info": {
   "codemirror_mode": {
    "name": "ipython",
    "version": 3
   },
   "file_extension": ".py",
   "mimetype": "text/x-python",
   "name": "python",
   "nbconvert_exporter": "python",
   "pygments_lexer": "ipython3",
   "version": "3.7.4"
  }
 },
 "nbformat": 4,
 "nbformat_minor": 2
}
