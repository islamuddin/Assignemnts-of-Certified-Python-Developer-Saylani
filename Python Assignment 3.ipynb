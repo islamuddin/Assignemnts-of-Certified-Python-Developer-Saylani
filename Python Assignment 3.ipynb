{
 "cells": [
  {
   "cell_type": "code",
   "execution_count": 1,
   "metadata": {},
   "outputs": [
    {
     "name": "stdout",
     "output_type": "stream",
     "text": [
      "Name        : Islamuddin\n",
      "Assignment #: 3\n",
      "Teacher     : Muhammad Ali Mughal\n",
      "Course      : Certified Python Deveoper (Saylani)\n"
     ]
    }
   ],
   "source": [
    "print(\"Name        : Islamuddin\")\n",
    "print(\"Assignment #: 3\")\n",
    "print(\"Teacher     : Muhammad Ali Mughal\")\n",
    "print(\"Course      : Certified Python Deveoper (Saylani)\")\n"
   ]
  },
  {
   "cell_type": "code",
   "execution_count": 2,
   "metadata": {},
   "outputs": [
    {
     "name": "stdout",
     "output_type": "stream",
     "text": [
      "Enter First Value: 3\n",
      "Enter Second Value: 6\n",
      "Enter Operator: *\n",
      "Multiply Result: 18\n"
     ]
    }
   ],
   "source": [
    "#Q:01: Make a calculator using Python with addition , subtraction , multiplication , division and power.'''\n",
    "\n",
    "number1=int(input(\"Enter First Value: \"))\n",
    "number2=int(input(\"Enter Second Value: \"))\n",
    "operator=input(\"Enter Operator: \")\n",
    "if(operator=='+'):\n",
    "    print(\"Sum Result: \"+str(number1+number2))\n",
    "elif(operator=='-'):\n",
    "    print(\"Substraction Result: \"+str(number1-number2))\n",
    "elif(operator=='-'):\n",
    "    print(\"Substract Result: \"+str(number1-number2))\n",
    "elif(operator=='*'):\n",
    "    print(\"Multiply Result: \"+str(number1*number2))\n",
    "elif(operator=='/'):\n",
    "    print(\"Divide Result: \"+str(number1/number2))\n",
    "elif(operator=='**'):\n",
    "    print(\"Power Result: \"+str(number1**number2))\n",
    "else:\n",
    "    print(\"Please Enter Correct Value!\")"
   ]
  },
  {
   "cell_type": "code",
   "execution_count": 3,
   "metadata": {},
   "outputs": [
    {
     "name": "stdout",
     "output_type": "stream",
     "text": [
      "String  : Acturies\n",
      "Number  : 34\n",
      "String  : 3432\n",
      "String  : sdf\n",
      "Number  : 343\n",
      "Number  : 389\n",
      "Number  : 234\n",
      "String  : 3243Final\n"
     ]
    }
   ],
   "source": [
    "#:02. Write a program to check if there is any numeric value in list using for loop'''\n",
    "\n",
    "testList=[\"Acturies\",34,\"3432\",\"sdf\",343,389,234,\"3243Final\"]\n",
    "for testElement in testList:\n",
    "    if(type(testElement)==int):\n",
    "        print(\"Number  : \"+str(testElement))\n",
    "    else:\n",
    "        print(\"String  : \"+testElement)"
   ]
  },
  {
   "cell_type": "code",
   "execution_count": 4,
   "metadata": {},
   "outputs": [
    {
     "data": {
      "text/plain": [
       "{'strikey': 'strivalue', 'numekey': 34343, 'aphakey': 32432, 'addnumkey': 8093}"
      ]
     },
     "execution_count": 4,
     "metadata": {},
     "output_type": "execute_result"
    }
   ],
   "source": [
    "#Q:03: Write a Python script to add a key to a dictionary'''\n",
    "\n",
    "dict={'strikey':'strivalue','numekey':34343,'aphakey':32432}\n",
    "dict['addnumkey']=8093\n",
    "dict"
   ]
  },
  {
   "cell_type": "code",
   "execution_count": 5,
   "metadata": {},
   "outputs": [
    {
     "name": "stdout",
     "output_type": "stream",
     "text": [
      "Sum Result: 990\n"
     ]
    }
   ],
   "source": [
    "'''Q:4. Write a Python program to sum all the numeric items in a dictionary'''\n",
    "\n",
    "testList=[\"kia\",34,\"hal\",\"hai\",333,389,234,\"dosto\"]\n",
    "sum=0\n",
    "for testElement in testList:\n",
    "    if(type(testElement)==int):\n",
    "        sum=sum+testElement\n",
    "print(\"Sum Result: \"+str(sum))"
   ]
  },
  {
   "cell_type": "code",
   "execution_count": 6,
   "metadata": {},
   "outputs": [
    {
     "name": "stdout",
     "output_type": "stream",
     "text": [
      "Current Dict is:  {'key1': 'geeks', 'key2': 'fill_me'}\n",
      "New Updated Dictionary is :  {'key1': 'geeks', 'key2': 'for', 'key3': 'geeks'}\n"
     ]
    }
   ],
   "source": [
    "#Q:05: Write a program to identify duplicate values from list '''\n",
    "\n",
    "dict = {'key1':'geeks', 'key2':'fill_me'} \n",
    "print(\"Current Dict is: \", dict) \n",
    "  \n",
    "# using the subscript notation \n",
    "# Dictionary_Name[New_Key_Name] = New_Key_Value \n",
    "dict['key2'] = 'for'\n",
    "dict['key3'] = 'geeks'\n",
    "print(\"New Updated Dictionary is : \", dict)"
   ]
  },
  {
   "cell_type": "code",
   "execution_count": 7,
   "metadata": {},
   "outputs": [
    {
     "name": "stdout",
     "output_type": "stream",
     "text": [
      "Key is present in the dictionary\n",
      "Key is not present in the dictionary\n"
     ]
    }
   ],
   "source": [
    "#Q:06. Write a Python script to check if a given key already exists in a dictionary'''\n",
    "\n",
    "d = {1: 10, 2: 20, 3: 30, 4: 40, 5: 50, 6: 60}\n",
    "def is_key_present(x):\n",
    "  if x in d:\n",
    "      print('Key is present in the dictionary')\n",
    "  else:\n",
    "      print('Key is not present in the dictionary')\n",
    "is_key_present(5)\n",
    "is_key_present(9)"
   ]
  },
  {
   "cell_type": "code",
   "execution_count": null,
   "metadata": {},
   "outputs": [],
   "source": []
  }
 ],
 "metadata": {
  "kernelspec": {
   "display_name": "Python 3",
   "language": "python",
   "name": "python3"
  },
  "language_info": {
   "codemirror_mode": {
    "name": "ipython",
    "version": 3
   },
   "file_extension": ".py",
   "mimetype": "text/x-python",
   "name": "python",
   "nbconvert_exporter": "python",
   "pygments_lexer": "ipython3",
   "version": "3.7.4"
  }
 },
 "nbformat": 4,
 "nbformat_minor": 2
}
