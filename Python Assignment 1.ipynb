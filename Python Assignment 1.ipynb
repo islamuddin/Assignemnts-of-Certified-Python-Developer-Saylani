{
 "cells": [
  {
   "cell_type": "code",
   "execution_count": 1,
   "metadata": {},
   "outputs": [
    {
     "name": "stdout",
     "output_type": "stream",
     "text": [
      "Name        : Islamuddin\n",
      "Assignment #: 1\n",
      "Teacher     : Muhammad Ali Mughal\n",
      "Course      : Certified Python Deveoper (Saylani)\n"
     ]
    }
   ],
   "source": [
    "print(\"Name        : Islamuddin\")\n",
    "print(\"Assignment #: 1\")\n",
    "print(\"Teacher     : Muhammad Ali Mughal\")\n",
    "print(\"Course      : Certified Python Deveoper (Saylani)\")"
   ]
  },
  {
   "cell_type": "code",
   "execution_count": 2,
   "metadata": {},
   "outputs": [
    {
     "name": "stdout",
     "output_type": "stream",
     "text": [
      "Twinkle, twinkle, little star,\n",
      "      How I wonder what you are!\n",
      "             Up above the world so high,\n",
      "             Like a diamond in the sky.\n",
      "Twinkle, twinkle, little star,\n",
      "      How I wonder what you are!\n"
     ]
    }
   ],
   "source": [
    "#Q:01: Write a Python program to print the following string in a specific format (see the output). \n",
    "print(\"Twinkle, twinkle, little star,\")\n",
    "print(\"      How I wonder what you are!\")\n",
    "print(\"             Up above the world so high,\")\n",
    "print(\"             Like a diamond in the sky.\")\n",
    "print(\"Twinkle, twinkle, little star,\")\n",
    "print(\"      How I wonder what you are!\")"
   ]
  },
  {
   "cell_type": "code",
   "execution_count": 3,
   "metadata": {},
   "outputs": [
    {
     "name": "stdout",
     "output_type": "stream",
     "text": [
      "py version : 3.7.4 (default, Aug  9 2019, 18:34:13) [MSC v.1915 64 bit (AMD64)]\n"
     ]
    }
   ],
   "source": [
    "#Q:02: Write a Python program to get the Python version you are using\n",
    "import sys\n",
    "print(\"py version :\",sys.version)"
   ]
  },
  {
   "cell_type": "code",
   "execution_count": 4,
   "metadata": {},
   "outputs": [
    {
     "name": "stdout",
     "output_type": "stream",
     "text": [
      "2019-12-01 22:55:14.221894\n"
     ]
    }
   ],
   "source": [
    "#Q:03: Write a Python program to display the current date and time\n",
    "import datetime\n",
    "print(datetime.datetime.now())"
   ]
  },
  {
   "cell_type": "code",
   "execution_count": 5,
   "metadata": {},
   "outputs": [
    {
     "name": "stdout",
     "output_type": "stream",
     "text": [
      "Enter radius of circle :3.64\n",
      "area of circle is :  41.603744000000006\n"
     ]
    }
   ],
   "source": [
    "#Q:04: Write a Python program which accepts the radius of a circle from the user and compute the area\n",
    "PI=3.14\n",
    "radius=float(input(\"Enter radius of circle :\"))\n",
    "area_of_circle=PI*radius*radius\n",
    "print(\"area of circle is : \",area_of_circle)"
   ]
  },
  {
   "cell_type": "code",
   "execution_count": 6,
   "metadata": {},
   "outputs": [
    {
     "name": "stdout",
     "output_type": "stream",
     "text": [
      "Enter first number: 17\n",
      "Enter second number: 19\n",
      "36\n"
     ]
    }
   ],
   "source": [
    "#Q:06: Write a python program which takes two inputs from user and print them addition\n",
    "firstNumber=int(input(\"Enter first number: \"))\n",
    "secondNumber=int(input(\"Enter second number: \"))\n",
    "print(firstNumber+secondNumber)"
   ]
  },
  {
   "cell_type": "code",
   "execution_count": null,
   "metadata": {},
   "outputs": [],
   "source": []
  }
 ],
 "metadata": {
  "kernelspec": {
   "display_name": "Python 3",
   "language": "python",
   "name": "python3"
  },
  "language_info": {
   "codemirror_mode": {
    "name": "ipython",
    "version": 3
   },
   "file_extension": ".py",
   "mimetype": "text/x-python",
   "name": "python",
   "nbconvert_exporter": "python",
   "pygments_lexer": "ipython3",
   "version": "3.7.4"
  }
 },
 "nbformat": 4,
 "nbformat_minor": 2
}
